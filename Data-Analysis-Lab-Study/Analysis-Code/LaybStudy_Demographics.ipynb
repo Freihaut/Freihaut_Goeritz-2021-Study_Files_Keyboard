{
 "cells": [
  {
   "cell_type": "markdown",
   "metadata": {},
   "source": [
    "### File to get the demographic infos of the participants in the lab-study"
   ]
  },
  {
   "cell_type": "code",
   "execution_count": null,
   "metadata": {},
   "outputs": [],
   "source": [
    "import json\n",
    "import pandas as pd"
   ]
  },
  {
   "cell_type": "code",
   "execution_count": null,
   "metadata": {},
   "outputs": [],
   "source": [
    "# open the dataset\n",
    "with open(\"LabStudy_RawData.json\") as f:\n",
    "    data = json.load(f)"
   ]
  },
  {
   "cell_type": "code",
   "execution_count": null,
   "metadata": {},
   "outputs": [],
   "source": [
    "# get the demographic infos of each participant and create a demographics dataset\n",
    "\n",
    "dem_stats = {}\n",
    "\n",
    "for participant in data:\n",
    "\n",
    "    # if the participant finished the study\n",
    "    if \"phaseFinishedTimestamps\" in data[participant] and \"BfiNeuroticism\" in \\\n",
    "            data[participant][\"phaseFinishedTimestamps\"]:\n",
    "\n",
    "        # get the demographic variables of the participant\n",
    "        dem_stats[participant] = {item: data[participant][\"Soziodem\"][item] for item in data[participant][\"Soziodem\"]}\n",
    "\n",
    "# create a pandas dataframe\n",
    "df = pd.DataFrame(dem_stats).T"
   ]
  },
  {
   "cell_type": "code",
   "execution_count": null,
   "metadata": {},
   "outputs": [],
   "source": [
    "# do some string replacements\n",
    "df[\"sex\"].replace([0, 1], [\"women\", \"men\"], inplace=True)\n",
    "df[\"hand\"].replace([0, 1], [\"right\", \"left\"], inplace=True)\n",
    "df[\"occupation\"].replace([0, 1, 2, 3, 4], [\"In school\", \"vocational training\", \"student\", \"working\", \"other\"],\n",
    "                         inplace=True)\n",
    "\n",
    "# print the demopgrahpic infos of the dataset\n",
    "print(\"Total number of participants:\", len(df))\n",
    "\n",
    "print(\"Mean age:\", df[\"age\"].mean())\n",
    "print(\"Std age:\", df[\"age\"].std())\n",
    "print(\"Mean age:\", df[\"age\"].min(), \"Max age:\", df[\"age\"].min())\n",
    "print(\"dominant hand count: \\n\", df[\"hand\"].value_counts())\n",
    "print(\"sex count: \\n\", df[\"sex\"].value_counts())\n",
    "print(\"occupation count: \\n\", df[\"occupation\"].value_counts())"
   ]
  }
 ],
 "metadata": {
  "kernelspec": {
   "display_name": "Python [conda env:full_conda]",
   "language": "python",
   "name": "conda-env-full_conda-py"
  },
  "language_info": {
   "codemirror_mode": {
    "name": "ipython",
    "version": 3
   },
   "file_extension": ".py",
   "mimetype": "text/x-python",
   "name": "python",
   "nbconvert_exporter": "python",
   "pygments_lexer": "ipython3",
   "version": "3.7.9"
  }
 },
 "nbformat": 4,
 "nbformat_minor": 2
}
