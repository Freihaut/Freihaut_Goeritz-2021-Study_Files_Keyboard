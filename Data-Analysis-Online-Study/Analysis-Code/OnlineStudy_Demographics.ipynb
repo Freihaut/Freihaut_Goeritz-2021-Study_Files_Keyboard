{
 "cells": [
  {
   "cell_type": "markdown",
   "metadata": {},
   "source": [
    "### File to get sociodemographic infos about the dataset of the online-study"
   ]
  },
  {
   "cell_type": "markdown",
   "metadata": {},
   "source": [
    "Most sociodemographic info can not be found in the raw data, because they were independently provided by the WisoPanel, which was used to recruit the study participants"
   ]
  },
  {
   "cell_type": "code",
   "execution_count": null,
   "metadata": {},
   "outputs": [],
   "source": [
    "import pandas as pd\n",
    "import numpy as np\n",
    "import pickle"
   ]
  },
  {
   "cell_type": "code",
   "execution_count": null,
   "metadata": {},
   "outputs": [],
   "source": [
    "# open the sociodemograhpic dataset with the sociodem info of all study participants\n",
    "dataset = pd.read_csv(\"OnlineStudy_sociodemographic_data.csv\", index_col=\"firebase_id\")\n",
    "\n",
    "# get a list of the valid ids (participants who completed the study and showed no sign of careless responding or\n",
    "# technical difficulties\n",
    "with open(\"filtered_online_study_ids_taskLvl\", \"rb\") as fp:\n",
    "    valid_ids = pickle.load(fp)"
   ]
  },
  {
   "cell_type": "code",
   "execution_count": null,
   "metadata": {},
   "outputs": [],
   "source": [
    "# only select the cases that are in the valid_ids list\n",
    "\n",
    "valid_cases = dataset.loc[valid_ids, :]\n",
    "print(\"Total number of valid participants:\", len(valid_cases))"
   ]
  },
  {
   "cell_type": "markdown",
   "metadata": {},
   "source": [
    "#### --- Get some sociodemographic infos about participants ---"
   ]
  },
  {
   "cell_type": "code",
   "execution_count": null,
   "metadata": {},
   "outputs": [],
   "source": [
    "# get info about age\n",
    "age_range = [2020 - np.max(valid_cases[\"jahr\"]), 2020 - np.min(valid_cases[\"jahr\"])]\n",
    "mean_age = np.mean(2020 - valid_cases[\"jahr\"])\n",
    "std_age = np.std(2020 - valid_cases[\"jahr\"])\n",
    "\n",
    "print(\"Age range:\", age_range, \"Mean Age:\", mean_age, \"Std Age:\", std_age)"
   ]
  },
  {
   "cell_type": "code",
   "execution_count": null,
   "metadata": {},
   "outputs": [],
   "source": [
    "# get info about sex\n",
    "# 1 = female, 2 = male\n",
    "\n",
    "print(\"Sex:\", \"\\n\", valid_cases[\"sex\"].value_counts())"
   ]
  },
  {
   "cell_type": "code",
   "execution_count": null,
   "metadata": {},
   "outputs": [],
   "source": [
    "# get info about education\n",
    "# 1 = no degree(yet), 2 = 9 years of school, 3 = O-Levels, 4 = A-Levels, 5 = University, 6 = doctorate\n",
    "\n",
    "print(\"Education:\", \"\\n\", valid_cases[\"schule\"].value_counts())"
   ]
  },
  {
   "cell_type": "code",
   "execution_count": null,
   "metadata": {},
   "outputs": [],
   "source": [
    "# get info about keyboard\n",
    "# 0 = used keyboard of a laoptop, 1 = used standalone keyboard\n",
    "print(\"Keyboard:\", \"\\n\", valid_cases[\"keyboard\"].value_counts())"
   ]
  },
  {
   "cell_type": "code",
   "execution_count": null,
   "metadata": {},
   "outputs": [],
   "source": [
    "# get info about mouse hand\n",
    "# 0 = uses right hand, 1 = uses left hand\n",
    "print(\"Mouse Hand:\", \"\\n\", valid_cases[\"mouse_hand\"].value_counts())"
   ]
  }
 ],
 "metadata": {
  "kernelspec": {
   "display_name": "Python [conda env:full_conda]",
   "language": "python",
   "name": "conda-env-full_conda-py"
  },
  "language_info": {
   "codemirror_mode": {
    "name": "ipython",
    "version": 3
   },
   "file_extension": ".py",
   "mimetype": "text/x-python",
   "name": "python",
   "nbconvert_exporter": "python",
   "pygments_lexer": "ipython3",
   "version": "3.7.9"
  }
 },
 "nbformat": 4,
 "nbformat_minor": 2
}
